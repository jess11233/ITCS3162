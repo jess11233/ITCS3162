{
 "cells": [
  {
   "cell_type": "markdown",
   "id": "f40a3876",
   "metadata": {},
   "source": [
    "# Introduction"
   ]
  },
  {
   "cell_type": "code",
   "execution_count": 4,
   "id": "9ab16989",
   "metadata": {},
   "outputs": [],
   "source": [
    "import pandas as pd"
   ]
  },
  {
   "cell_type": "markdown",
   "id": "58091102",
   "metadata": {},
   "source": [
    "# this is pandas, it is what we use to load dataframes!"
   ]
  },
  {
   "cell_type": "code",
   "execution_count": 5,
   "id": "18499ec9",
   "metadata": {},
   "outputs": [],
   "source": [
    "import matplotlib.pyplot as plt"
   ]
  },
  {
   "cell_type": "markdown",
   "id": "442361e7",
   "metadata": {},
   "source": [
    "# This uploads my data "
   ]
  },
  {
   "cell_type": "code",
   "execution_count": 6,
   "id": "f5ba5b38",
   "metadata": {},
   "outputs": [],
   "source": [
    "table = pd.read_csv(r\"C:\\Users\\jesss\\OneDrive\\Documents\\GitHub\\ITCS3162\\datasets\\Book(Sheet1).csv\")"
   ]
  },
  {
   "cell_type": "markdown",
   "id": "aa923eee",
   "metadata": {},
   "source": [
    "# Introduce the data: "
   ]
  },
  {
   "cell_type": "markdown",
   "id": "94ca294e",
   "metadata": {},
   "source": [
    "urban_area: multiple regions in the United States\n",
    "\n",
    "Population_group: the amount of people in those urban areas \n",
    "\n",
    "1982-2020: the years and how much fuel was wasted that year\n",
    "\n",
    "Short_term_percentage (2015 to 2020): The percentage change in wasted fuel\n",
    "\n",
    "Short_term_rank (2015 to 2020): A ranking of urban areas based on their short-term percentage change\n",
    "\n",
    "Long_term_percentage (1982 to 2020): The percentage changed over a much longer period\n",
    "\n",
    "Long_term_rank (1982 to 2020): A ranking of urban areas based on their long-term change \n"
   ]
  },
  {
   "cell_type": "code",
   "execution_count": 7,
   "id": "83228812",
   "metadata": {},
   "outputs": [
    {
     "data": {
      "text/html": [
       "<div>\n",
       "<style scoped>\n",
       "    .dataframe tbody tr th:only-of-type {\n",
       "        vertical-align: middle;\n",
       "    }\n",
       "\n",
       "    .dataframe tbody tr th {\n",
       "        vertical-align: top;\n",
       "    }\n",
       "\n",
       "    .dataframe thead th {\n",
       "        text-align: right;\n",
       "    }\n",
       "</style>\n",
       "<table border=\"1\" class=\"dataframe\">\n",
       "  <thead>\n",
       "    <tr style=\"text-align: right;\">\n",
       "      <th></th>\n",
       "      <th>Urban_area</th>\n",
       "      <th>population_group</th>\n",
       "      <th>(R) 1982</th>\n",
       "      <th>(R) 1985</th>\n",
       "      <th>(R) 1990</th>\n",
       "      <th>(R) 1991</th>\n",
       "      <th>(R) 1992</th>\n",
       "      <th>(R) 1993</th>\n",
       "      <th>(R) 1994</th>\n",
       "      <th>(R) 1995</th>\n",
       "      <th>...</th>\n",
       "      <th>(R) 2015</th>\n",
       "      <th>(R) 2016</th>\n",
       "      <th>(R) 2017</th>\n",
       "      <th>2018</th>\n",
       "      <th>2019</th>\n",
       "      <th>2020</th>\n",
       "      <th>short_term_percentage</th>\n",
       "      <th>short_term_rank</th>\n",
       "      <th>long_term_percentage</th>\n",
       "      <th>long_term_rank</th>\n",
       "    </tr>\n",
       "  </thead>\n",
       "  <tbody>\n",
       "    <tr>\n",
       "      <th>0</th>\n",
       "      <td>Akron, OH</td>\n",
       "      <td>Medium</td>\n",
       "      <td>0.9</td>\n",
       "      <td>1.4</td>\n",
       "      <td>3.0</td>\n",
       "      <td>3.4</td>\n",
       "      <td>4.2</td>\n",
       "      <td>4.8</td>\n",
       "      <td>5.1</td>\n",
       "      <td>5.3</td>\n",
       "      <td>...</td>\n",
       "      <td>6.5</td>\n",
       "      <td>6.6</td>\n",
       "      <td>6.6</td>\n",
       "      <td>6.7</td>\n",
       "      <td>6.7</td>\n",
       "      <td>4.7</td>\n",
       "      <td>-27.6</td>\n",
       "      <td>18.0</td>\n",
       "      <td>427.2</td>\n",
       "      <td>27.0</td>\n",
       "    </tr>\n",
       "    <tr>\n",
       "      <th>1</th>\n",
       "      <td>Albany-Schenectady, NY</td>\n",
       "      <td>Medium</td>\n",
       "      <td>0.6</td>\n",
       "      <td>0.8</td>\n",
       "      <td>1.4</td>\n",
       "      <td>1.5</td>\n",
       "      <td>1.6</td>\n",
       "      <td>1.6</td>\n",
       "      <td>1.8</td>\n",
       "      <td>1.9</td>\n",
       "      <td>...</td>\n",
       "      <td>5.2</td>\n",
       "      <td>5.3</td>\n",
       "      <td>5.3</td>\n",
       "      <td>5.8</td>\n",
       "      <td>6.2</td>\n",
       "      <td>4.2</td>\n",
       "      <td>-19.7</td>\n",
       "      <td>7.0</td>\n",
       "      <td>623.4</td>\n",
       "      <td>14.0</td>\n",
       "    </tr>\n",
       "    <tr>\n",
       "      <th>2</th>\n",
       "      <td>Albuquerque, NM</td>\n",
       "      <td>Medium</td>\n",
       "      <td>2.0</td>\n",
       "      <td>2.3</td>\n",
       "      <td>3.4</td>\n",
       "      <td>3.7</td>\n",
       "      <td>4.0</td>\n",
       "      <td>4.5</td>\n",
       "      <td>4.9</td>\n",
       "      <td>5.5</td>\n",
       "      <td>...</td>\n",
       "      <td>9.0</td>\n",
       "      <td>9.2</td>\n",
       "      <td>9.1</td>\n",
       "      <td>8.9</td>\n",
       "      <td>9.1</td>\n",
       "      <td>4.3</td>\n",
       "      <td>-52.7</td>\n",
       "      <td>77.0</td>\n",
       "      <td>118.1</td>\n",
       "      <td>86.0</td>\n",
       "    </tr>\n",
       "    <tr>\n",
       "      <th>3</th>\n",
       "      <td>Allentown-Bethlehem, PA-NJ</td>\n",
       "      <td>Medium</td>\n",
       "      <td>1.2</td>\n",
       "      <td>1.4</td>\n",
       "      <td>2.1</td>\n",
       "      <td>2.3</td>\n",
       "      <td>2.6</td>\n",
       "      <td>3.0</td>\n",
       "      <td>3.5</td>\n",
       "      <td>4.0</td>\n",
       "      <td>...</td>\n",
       "      <td>5.7</td>\n",
       "      <td>5.7</td>\n",
       "      <td>5.8</td>\n",
       "      <td>6.1</td>\n",
       "      <td>5.7</td>\n",
       "      <td>2.9</td>\n",
       "      <td>-49.1</td>\n",
       "      <td>63.0</td>\n",
       "      <td>141.5</td>\n",
       "      <td>79.0</td>\n",
       "    </tr>\n",
       "    <tr>\n",
       "      <th>4</th>\n",
       "      <td>Anchorage, AK</td>\n",
       "      <td>Small</td>\n",
       "      <td>0.4</td>\n",
       "      <td>0.5</td>\n",
       "      <td>0.9</td>\n",
       "      <td>1.0</td>\n",
       "      <td>1.1</td>\n",
       "      <td>1.2</td>\n",
       "      <td>1.3</td>\n",
       "      <td>1.4</td>\n",
       "      <td>...</td>\n",
       "      <td>2.7</td>\n",
       "      <td>2.7</td>\n",
       "      <td>2.9</td>\n",
       "      <td>2.8</td>\n",
       "      <td>2.7</td>\n",
       "      <td>1.2</td>\n",
       "      <td>-56.4</td>\n",
       "      <td>86.0</td>\n",
       "      <td>219.9</td>\n",
       "      <td>59.0</td>\n",
       "    </tr>\n",
       "  </tbody>\n",
       "</table>\n",
       "<p>5 rows × 39 columns</p>\n",
       "</div>"
      ],
      "text/plain": [
       "                   Urban_area population_group  (R) 1982  (R) 1985  (R) 1990  \\\n",
       "0                   Akron, OH           Medium       0.9       1.4       3.0   \n",
       "1      Albany-Schenectady, NY           Medium       0.6       0.8       1.4   \n",
       "2             Albuquerque, NM           Medium       2.0       2.3       3.4   \n",
       "3  Allentown-Bethlehem, PA-NJ           Medium       1.2       1.4       2.1   \n",
       "4               Anchorage, AK            Small       0.4       0.5       0.9   \n",
       "\n",
       "   (R) 1991  (R) 1992  (R) 1993  (R) 1994  (R) 1995  ...  (R) 2015  (R) 2016  \\\n",
       "0       3.4       4.2       4.8       5.1       5.3  ...       6.5       6.6   \n",
       "1       1.5       1.6       1.6       1.8       1.9  ...       5.2       5.3   \n",
       "2       3.7       4.0       4.5       4.9       5.5  ...       9.0       9.2   \n",
       "3       2.3       2.6       3.0       3.5       4.0  ...       5.7       5.7   \n",
       "4       1.0       1.1       1.2       1.3       1.4  ...       2.7       2.7   \n",
       "\n",
       "   (R) 2017  2018  2019  2020  short_term_percentage  short_term_rank  \\\n",
       "0       6.6   6.7   6.7   4.7                  -27.6             18.0   \n",
       "1       5.3   5.8   6.2   4.2                  -19.7              7.0   \n",
       "2       9.1   8.9   9.1   4.3                  -52.7             77.0   \n",
       "3       5.8   6.1   5.7   2.9                  -49.1             63.0   \n",
       "4       2.9   2.8   2.7   1.2                  -56.4             86.0   \n",
       "\n",
       "   long_term_percentage  long_term_rank  \n",
       "0                 427.2            27.0  \n",
       "1                 623.4            14.0  \n",
       "2                 118.1            86.0  \n",
       "3                 141.5            79.0  \n",
       "4                 219.9            59.0  \n",
       "\n",
       "[5 rows x 39 columns]"
      ]
     },
     "execution_count": 7,
     "metadata": {},
     "output_type": "execute_result"
    }
   ],
   "source": [
    "table.head()"
   ]
  },
  {
   "cell_type": "markdown",
   "id": "a519c5b6",
   "metadata": {},
   "source": [
    "# This is the categorizes in my dataset"
   ]
  },
  {
   "cell_type": "code",
   "execution_count": 8,
   "id": "7c1aa83b",
   "metadata": {},
   "outputs": [
    {
     "data": {
      "text/plain": [
       "Urban_area                object\n",
       "population_group          object\n",
       "(R) 1982                 float64\n",
       "(R) 1985                 float64\n",
       "(R) 1990                 float64\n",
       "(R) 1991                 float64\n",
       "(R) 1992                 float64\n",
       "(R) 1993                 float64\n",
       "(R) 1994                 float64\n",
       "(R) 1995                 float64\n",
       "(R) 1996                 float64\n",
       "(R) 1997                 float64\n",
       "(R) 1998                 float64\n",
       "(R) 1999                 float64\n",
       "(R) 2000                 float64\n",
       "(R) 2001                 float64\n",
       "(R) 2002                 float64\n",
       "(R) 2003                 float64\n",
       "(R) 2004                 float64\n",
       "(R) 2005                 float64\n",
       "(R) 2006                 float64\n",
       "(R) 2007                 float64\n",
       "(R) 2008                 float64\n",
       "(R) 2009                 float64\n",
       "(R) 2010                 float64\n",
       "(R) 2011                 float64\n",
       "(R) 2012                 float64\n",
       "(R) 2013                 float64\n",
       "(R) 2014                 float64\n",
       "(R) 2015                 float64\n",
       "(R) 2016                 float64\n",
       "(R) 2017                 float64\n",
       "2018                     float64\n",
       "2019                     float64\n",
       "2020                     float64\n",
       "short_term_percentage    float64\n",
       "short_term_rank          float64\n",
       "long_term_percentage      object\n",
       "long_term_rank           float64\n",
       "dtype: object"
      ]
     },
     "execution_count": 8,
     "metadata": {},
     "output_type": "execute_result"
    }
   ],
   "source": [
    "table.dtypes"
   ]
  },
  {
   "cell_type": "code",
   "execution_count": 9,
   "id": "7b0a850b",
   "metadata": {},
   "outputs": [
    {
     "data": {
      "text/plain": [
       "Index(['Urban_area', 'population_group', '(R) 1982', '(R) 1985', '(R) 1990',\n",
       "       '(R) 1991', '(R) 1992', '(R) 1993', '(R) 1994', '(R) 1995', '(R) 1996',\n",
       "       '(R) 1997', '(R) 1998', '(R) 1999', '(R) 2000', '(R) 2001', '(R) 2002',\n",
       "       '(R) 2003', '(R) 2004', '(R) 2005', '(R) 2006', '(R) 2007', '(R) 2008',\n",
       "       '(R) 2009', '(R) 2010', '(R) 2011', '(R) 2012', '(R) 2013', '(R) 2014',\n",
       "       '(R) 2015', '(R) 2016', '(R) 2017', '2018', '2019', '2020',\n",
       "       'short_term_percentage', 'short_term_rank', 'long_term_percentage',\n",
       "       'long_term_rank'],\n",
       "      dtype='object')"
      ]
     },
     "execution_count": 9,
     "metadata": {},
     "output_type": "execute_result"
    }
   ],
   "source": [
    "table.columns"
   ]
  },
  {
   "cell_type": "code",
   "execution_count": 10,
   "id": "92adb2a3",
   "metadata": {},
   "outputs": [
    {
     "data": {
      "text/plain": [
       "(108, 39)"
      ]
     },
     "execution_count": 10,
     "metadata": {},
     "output_type": "execute_result"
    }
   ],
   "source": [
    "table.shape"
   ]
  },
  {
   "cell_type": "markdown",
   "id": "46900939",
   "metadata": {},
   "source": [
    "# This describes my dataset"
   ]
  },
  {
   "cell_type": "code",
   "execution_count": 11,
   "id": "5e6e9632",
   "metadata": {},
   "outputs": [
    {
     "data": {
      "text/plain": [
       "<bound method NDFrame.describe of                         Urban_area population_group  (R) 1982  (R) 1985  \\\n",
       "0                        Akron, OH           Medium       0.9       1.4   \n",
       "1           Albany-Schenectady, NY           Medium       0.6       0.8   \n",
       "2                  Albuquerque, NM           Medium       2.0       2.3   \n",
       "3       Allentown-Bethlehem, PA-NJ           Medium       1.2       1.4   \n",
       "4                    Anchorage, AK            Small       0.4       0.5   \n",
       "..                             ...              ...       ...       ...   \n",
       "103  Very large urban area average       Very large      34.9      42.0   \n",
       "104       Large urban area average            Large       3.3       4.6   \n",
       "105      Medium urban area average           Medium       1.6       1.9   \n",
       "106       Small urban area average            Small       0.4       0.5   \n",
       "107                            NaN              NaN       NaN       NaN   \n",
       "\n",
       "     (R) 1990  (R) 1991  (R) 1992  (R) 1993  (R) 1994  (R) 1995  ...  \\\n",
       "0         3.0       3.4       4.2       4.8       5.1       5.3  ...   \n",
       "1         1.4       1.5       1.6       1.6       1.8       1.9  ...   \n",
       "2         3.4       3.7       4.0       4.5       4.9       5.5  ...   \n",
       "3         2.1       2.3       2.6       3.0       3.5       4.0  ...   \n",
       "4         0.9       1.0       1.1       1.2       1.3       1.4  ...   \n",
       "..        ...       ...       ...       ...       ...       ...  ...   \n",
       "103      53.5      56.2      59.0      62.2      65.7      69.2  ...   \n",
       "104       7.4       8.1       8.7       9.5      10.3      11.2  ...   \n",
       "105       2.9       3.2       3.4       3.7       4.0       4.3  ...   \n",
       "106       0.9       0.9       1.0       1.1       1.2       1.3  ...   \n",
       "107       NaN       NaN       NaN       NaN       NaN       NaN  ...   \n",
       "\n",
       "     (R) 2015  (R) 2016  (R) 2017   2018   2019  2020  short_term_percentage  \\\n",
       "0         6.5       6.6       6.6    6.7    6.7   4.7                  -27.6   \n",
       "1         5.2       5.3       5.3    5.8    6.2   4.2                  -19.7   \n",
       "2         9.0       9.2       9.1    8.9    9.1   4.3                  -52.7   \n",
       "3         5.7       5.7       5.8    6.1    5.7   2.9                  -49.1   \n",
       "4         2.7       2.7       2.9    2.8    2.7   1.2                  -56.4   \n",
       "..        ...       ...       ...    ...    ...   ...                    ...   \n",
       "103     115.5     116.5     117.8  119.6  121.8  59.8                  -48.3   \n",
       "104      22.7      23.1      23.5   24.0   24.6  12.5                  -45.1   \n",
       "105       8.3       8.4       8.5    8.7    8.9   4.8                  -42.2   \n",
       "106       3.4       3.5       3.5    3.7    3.9   2.2                  -33.7   \n",
       "107       NaN       NaN       NaN    NaN    NaN   NaN                    NaN   \n",
       "\n",
       "     short_term_rank  long_term_percentage  long_term_rank  \n",
       "0               18.0                 427.2            27.0  \n",
       "1                7.0                 623.4            14.0  \n",
       "2               77.0                 118.1            86.0  \n",
       "3               63.0                 141.5            79.0  \n",
       "4               86.0                 219.9            59.0  \n",
       "..               ...                   ...             ...  \n",
       "103              NaN                  71.2             NaN  \n",
       "104              NaN                 272.7             NaN  \n",
       "105              NaN                 196.7             NaN  \n",
       "106              NaN                 448.5             NaN  \n",
       "107              NaN                   NaN             NaN  \n",
       "\n",
       "[108 rows x 39 columns]>"
      ]
     },
     "execution_count": 11,
     "metadata": {},
     "output_type": "execute_result"
    }
   ],
   "source": [
    "table.describe"
   ]
  },
  {
   "cell_type": "code",
   "execution_count": 12,
   "id": "fb6d33a2",
   "metadata": {},
   "outputs": [
    {
     "data": {
      "text/plain": [
       "0                          Akron, OH\n",
       "1             Albany-Schenectady, NY\n",
       "2                    Albuquerque, NM\n",
       "3         Allentown-Bethlehem, PA-NJ\n",
       "4                      Anchorage, AK\n",
       "                   ...              \n",
       "103    Very large urban area average\n",
       "104         Large urban area average\n",
       "105        Medium urban area average\n",
       "106         Small urban area average\n",
       "107                              NaN\n",
       "Name: Urban_area, Length: 108, dtype: object"
      ]
     },
     "execution_count": 12,
     "metadata": {},
     "output_type": "execute_result"
    }
   ],
   "source": [
    "table['Urban_area']"
   ]
  },
  {
   "cell_type": "markdown",
   "id": "7b0d6c55",
   "metadata": {},
   "source": [
    "# Finally this is my visualization and I used a scattter graph to show the relation between the year 2020 and short term ranking "
   ]
  },
  {
   "cell_type": "markdown",
   "id": "33ba29d6",
   "metadata": {},
   "source": [
    "The scatter chart below compares the short-term congestion ranking with the wasted fuel in 2020 across urban areas within the United States. Based on this chart the majority of urban areas wasted only a little of fuel, but some of the large metro areas wasted over 100 million gallons just in 2020."
   ]
  },
  {
   "cell_type": "code",
   "execution_count": 13,
   "id": "188a5699",
   "metadata": {},
   "outputs": [
    {
     "data": {
      "text/plain": [
       "<Axes: xlabel='short_term_rank', ylabel='2020'>"
      ]
     },
     "execution_count": 13,
     "metadata": {},
     "output_type": "execute_result"
    },
    {
     "data": {
      "image/png": "[encoded data removed]",
      "text/plain": [
       "<Figure size 640x480 with 1 Axes>"
      ]
     },
     "metadata": {},
     "output_type": "display_data"
    }
   ],
   "source": [
    "table.plot(x='short_term_rank', y='2020', kind='scatter')"
   ]
  },
  {
   "cell_type": "code",
   "execution_count": 33,
   "id": "abed5462",
   "metadata": {},
   "outputs": [
    {
     "data": {
      "text/plain": [
       "<Axes: xlabel='short_term_rank'>"
      ]
     },
     "execution_count": 33,
     "metadata": {},
     "output_type": "execute_result"
    },
    {
     "data": {
      "image/png": "[encoded data removed]",
      "text/plain": [
       "<Figure size 640x480 with 1 Axes>"
      ]
     },
     "metadata": {},
     "output_type": "display_data"
    }
   ],
   "source": [
    "table.plot(x = 'short_term_rank', y = 'long_term_rank',kind = 'bar')\n"
   ]
  }
 ],
 "metadata": {
  "kernelspec": {
   "display_name": "classenv",
   "language": "python",
   "name": "python3"
  },
  "language_info": {
   "codemirror_mode": {
    "name": "ipython",
    "version": 3
   },
   "file_extension": ".py",
   "mimetype": "text/x-python",
   "name": "python",
   "nbconvert_exporter": "python",
   "pygments_lexer": "ipython3",
   "version": "3.12.11"
  }
 },
 "nbformat": 4,
 "nbformat_minor": 5
}
