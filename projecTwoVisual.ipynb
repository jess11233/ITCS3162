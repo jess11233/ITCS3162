{
 "cells": [
  {
   "cell_type": "markdown",
   "id": "699bdfed",
   "metadata": {},
   "source": [
    "# Introduction"
   ]
  },
  {
   "cell_type": "markdown",
   "id": "c5573381",
   "metadata": {},
   "source": [
    "Have you ever wondered why some coutries econmic growth is faster than other? Well I have and in my project I am building a classification model that predicts whether a country is experiencing slow, moderate, or fast economic growth. A countries econmic growth can be from many different factors such as inflation, unemployment, debt, and GDP per person. Hopefully from this project we can analyis if slow, moderate, and fast growth coutries share certain economic indicators that makes them grow at the speed they are growing. \n",
    "\n",
    "Main Questions: \n",
    "- What are most coutries econmic growth rate?\n",
    "- Why do some contries have faster econmic growth than other?\n",
    "- What is making the slower econmic growth countries grow slowly?"
   ]
  },
  {
   "cell_type": "code",
   "execution_count": 3,
   "id": "cd9dad47",
   "metadata": {},
   "outputs": [],
   "source": [
    "import pandas as pd \n",
    "import matplotlib.pyplot as plt"
   ]
  },
  {
   "cell_type": "markdown",
   "id": "09160dfc",
   "metadata": {},
   "source": [
    "installing scikit-learn for the modeling"
   ]
  },
  {
   "cell_type": "code",
   "execution_count": 4,
   "id": "5ccd0a06",
   "metadata": {},
   "outputs": [
    {
     "name": "stdout",
     "output_type": "stream",
     "text": [
      "Requirement already satisfied: scikit-learn in c:\\users\\jesss\\miniconda3\\envs\\classenv\\lib\\site-packages (1.7.2)\n",
      "Requirement already satisfied: numpy>=1.22.0 in c:\\users\\jesss\\miniconda3\\envs\\classenv\\lib\\site-packages (from scikit-learn) (2.3.2)\n",
      "Requirement already satisfied: scipy>=1.8.0 in c:\\users\\jesss\\miniconda3\\envs\\classenv\\lib\\site-packages (from scikit-learn) (1.16.2)\n",
      "Requirement already satisfied: joblib>=1.2.0 in c:\\users\\jesss\\miniconda3\\envs\\classenv\\lib\\site-packages (from scikit-learn) (1.5.2)\n",
      "Requirement already satisfied: threadpoolctl>=3.1.0 in c:\\users\\jesss\\miniconda3\\envs\\classenv\\lib\\site-packages (from scikit-learn) (3.6.0)\n"
     ]
    }
   ],
   "source": [
    "!pip install scikit-learn"
   ]
  },
  {
   "cell_type": "code",
   "execution_count": 5,
   "id": "7de0a95b",
   "metadata": {},
   "outputs": [
    {
     "name": "stdout",
     "output_type": "stream",
     "text": [
      "1.7.2\n"
     ]
    }
   ],
   "source": [
    "import sklearn\n",
    "from sklearn.metrics import ConfusionMatrixDisplay\n",
    "from sklearn.model_selection import train_test_split\n",
    "from sklearn.ensemble import RandomForestClassifier\n",
    "from sklearn.metrics import accuracy_score\n",
    "from sklearn.tree import DecisionTreeClassifier\n",
    "from sklearn.metrics import classification_report\n",
    "print(sklearn.__version__)\n"
   ]
  },
  {
   "cell_type": "code",
   "execution_count": 6,
   "id": "f98819b7",
   "metadata": {},
   "outputs": [],
   "source": [
    "table1 = pd.read_csv(r\"C:\\Users\\jesss\\OneDrive\\Documents\\GitHub\\ITCS3162\\world_economics.csv\")"
   ]
  },
  {
   "cell_type": "code",
   "execution_count": 7,
   "id": "b96a2c8a",
   "metadata": {},
   "outputs": [
    {
     "data": {
      "text/html": [
       "<div>\n",
       "<style scoped>\n",
       "    .dataframe tbody tr th:only-of-type {\n",
       "        vertical-align: middle;\n",
       "    }\n",
       "\n",
       "    .dataframe tbody tr th {\n",
       "        vertical-align: top;\n",
       "    }\n",
       "\n",
       "    .dataframe thead th {\n",
       "        text-align: right;\n",
       "    }\n",
       "</style>\n",
       "<table border=\"1\" class=\"dataframe\">\n",
       "  <thead>\n",
       "    <tr style=\"text-align: right;\">\n",
       "      <th></th>\n",
       "      <th>name</th>\n",
       "      <th>currency</th>\n",
       "      <th>capital</th>\n",
       "      <th>languages</th>\n",
       "      <th>latitude</th>\n",
       "      <th>longitude</th>\n",
       "      <th>area</th>\n",
       "      <th>region</th>\n",
       "      <th>subregion</th>\n",
       "      <th>borders</th>\n",
       "      <th>GDP</th>\n",
       "      <th>GDP Growth</th>\n",
       "      <th>Interest Rate</th>\n",
       "      <th>Inflation Rate</th>\n",
       "      <th>Jobless Rate</th>\n",
       "      <th>Gov. Budget</th>\n",
       "      <th>Debt/GDP</th>\n",
       "      <th>Current Account</th>\n",
       "      <th>Population</th>\n",
       "    </tr>\n",
       "  </thead>\n",
       "  <tbody>\n",
       "    <tr>\n",
       "      <th>0</th>\n",
       "      <td>Tunisia</td>\n",
       "      <td>Tunisian dinar</td>\n",
       "      <td>Tunis</td>\n",
       "      <td>Arabic</td>\n",
       "      <td>34.000000</td>\n",
       "      <td>9.000000</td>\n",
       "      <td>163610.0</td>\n",
       "      <td>Africa</td>\n",
       "      <td>Northern Africa</td>\n",
       "      <td>['DZA', 'LBY']</td>\n",
       "      <td>53</td>\n",
       "      <td>1.80</td>\n",
       "      <td>7.5</td>\n",
       "      <td>5.30</td>\n",
       "      <td>15.70</td>\n",
       "      <td>-6.6</td>\n",
       "      <td>79.8</td>\n",
       "      <td>-2.7</td>\n",
       "      <td>11.89</td>\n",
       "    </tr>\n",
       "    <tr>\n",
       "      <th>1</th>\n",
       "      <td>Vietnam</td>\n",
       "      <td>Vietnamese đồng</td>\n",
       "      <td>Hanoi</td>\n",
       "      <td>Vietnamese</td>\n",
       "      <td>16.166667</td>\n",
       "      <td>107.833333</td>\n",
       "      <td>331212.0</td>\n",
       "      <td>Asia</td>\n",
       "      <td>South-Eastern Asia</td>\n",
       "      <td>['KHM', 'CHN', 'LAO']</td>\n",
       "      <td>476</td>\n",
       "      <td>6.88</td>\n",
       "      <td>4.5</td>\n",
       "      <td>3.19</td>\n",
       "      <td>2.24</td>\n",
       "      <td>-4.0</td>\n",
       "      <td>32.9</td>\n",
       "      <td>6.1</td>\n",
       "      <td>101.30</td>\n",
       "    </tr>\n",
       "    <tr>\n",
       "      <th>2</th>\n",
       "      <td>Ecuador</td>\n",
       "      <td>United States dollar</td>\n",
       "      <td>Quito</td>\n",
       "      <td>Spanish</td>\n",
       "      <td>-2.000000</td>\n",
       "      <td>-77.500000</td>\n",
       "      <td>276841.0</td>\n",
       "      <td>Americas</td>\n",
       "      <td>South America</td>\n",
       "      <td>['COL', 'PER']</td>\n",
       "      <td>125</td>\n",
       "      <td>3.46</td>\n",
       "      <td>8.5</td>\n",
       "      <td>0.72</td>\n",
       "      <td>4.50</td>\n",
       "      <td>-1.9</td>\n",
       "      <td>50.6</td>\n",
       "      <td>2.8</td>\n",
       "      <td>17.97</td>\n",
       "    </tr>\n",
       "    <tr>\n",
       "      <th>3</th>\n",
       "      <td>Puerto Rico</td>\n",
       "      <td>United States dollar</td>\n",
       "      <td>San Juan</td>\n",
       "      <td>English</td>\n",
       "      <td>18.250000</td>\n",
       "      <td>-66.500000</td>\n",
       "      <td>8870.0</td>\n",
       "      <td>Americas</td>\n",
       "      <td>Caribbean</td>\n",
       "      <td>NaN</td>\n",
       "      <td>126</td>\n",
       "      <td>NaN</td>\n",
       "      <td>NaN</td>\n",
       "      <td>1.20</td>\n",
       "      <td>5.70</td>\n",
       "      <td>NaN</td>\n",
       "      <td>NaN</td>\n",
       "      <td>NaN</td>\n",
       "      <td>3.20</td>\n",
       "    </tr>\n",
       "    <tr>\n",
       "      <th>4</th>\n",
       "      <td>United States</td>\n",
       "      <td>United States dollar</td>\n",
       "      <td>Washington, D.C.</td>\n",
       "      <td>English</td>\n",
       "      <td>38.000000</td>\n",
       "      <td>-97.000000</td>\n",
       "      <td>9372610.0</td>\n",
       "      <td>Americas</td>\n",
       "      <td>North America</td>\n",
       "      <td>['CAN', 'MEX']</td>\n",
       "      <td>29185</td>\n",
       "      <td>3.00</td>\n",
       "      <td>4.5</td>\n",
       "      <td>2.70</td>\n",
       "      <td>4.20</td>\n",
       "      <td>-6.4</td>\n",
       "      <td>124.3</td>\n",
       "      <td>-3.9</td>\n",
       "      <td>341.15</td>\n",
       "    </tr>\n",
       "  </tbody>\n",
       "</table>\n",
       "</div>"
      ],
      "text/plain": [
       "            name              currency           capital   languages  \\\n",
       "0        Tunisia        Tunisian dinar             Tunis      Arabic   \n",
       "1        Vietnam       Vietnamese đồng             Hanoi  Vietnamese   \n",
       "2        Ecuador  United States dollar             Quito     Spanish   \n",
       "3    Puerto Rico  United States dollar          San Juan     English   \n",
       "4  United States  United States dollar  Washington, D.C.     English   \n",
       "\n",
       "    latitude   longitude       area    region           subregion  \\\n",
       "0  34.000000    9.000000   163610.0    Africa     Northern Africa   \n",
       "1  16.166667  107.833333   331212.0      Asia  South-Eastern Asia   \n",
       "2  -2.000000  -77.500000   276841.0  Americas       South America   \n",
       "3  18.250000  -66.500000     8870.0  Americas           Caribbean   \n",
       "4  38.000000  -97.000000  9372610.0  Americas       North America   \n",
       "\n",
       "                 borders    GDP  GDP Growth  Interest Rate  Inflation Rate  \\\n",
       "0         ['DZA', 'LBY']     53        1.80            7.5            5.30   \n",
       "1  ['KHM', 'CHN', 'LAO']    476        6.88            4.5            3.19   \n",
       "2         ['COL', 'PER']    125        3.46            8.5            0.72   \n",
       "3                    NaN    126         NaN            NaN            1.20   \n",
       "4         ['CAN', 'MEX']  29185        3.00            4.5            2.70   \n",
       "\n",
       "   Jobless Rate  Gov. Budget  Debt/GDP  Current Account  Population  \n",
       "0         15.70         -6.6      79.8             -2.7       11.89  \n",
       "1          2.24         -4.0      32.9              6.1      101.30  \n",
       "2          4.50         -1.9      50.6              2.8       17.97  \n",
       "3          5.70          NaN       NaN              NaN        3.20  \n",
       "4          4.20         -6.4     124.3             -3.9      341.15  "
      ]
     },
     "execution_count": 7,
     "metadata": {},
     "output_type": "execute_result"
    }
   ],
   "source": [
    "table1.head()"
   ]
  },
  {
   "cell_type": "markdown",
   "id": "fad3484b",
   "metadata": {},
   "source": [
    "# Pre-processing the dataset"
   ]
  },
  {
   "cell_type": "markdown",
   "id": "0175416a",
   "metadata": {},
   "source": [
    "The goal of me pre-processing my data is to first fill in missing values with median, then I created a GDP per capita using the GDP in the billions and population in the millions. I created a growth_class from GDP Growth and labeled them into categories (slow: less than 2%, moderate: between 2-5%, fast: over 5%). Lastly I dropped any colunms that were not useful for this projects modeling because it is not needed. "
   ]
  },
  {
   "cell_type": "code",
   "execution_count": 8,
   "id": "e06c3803",
   "metadata": {},
   "outputs": [],
   "source": [
    "table1.fillna(table1.median(numeric_only=True), inplace=True)\n",
    "\n",
    "table1[\"GDP_per_capita\"] = (table1[\"GDP\"] * 1e9) / (table1[\"Population\"] * 1e6)\n",
    "\n",
    "table1[\"growth_class\"] = pd.cut(\n",
    "    table1[\"GDP Growth\"],\n",
    "    bins=[-100, 2, 5, 100],\n",
    "    labels=[\"Slow\", \"Moderate\", \"Fast\"]\n",
    ")\n",
    "\n",
    "drop_cols = [\"name\",\"currency\",\"capital\",\"languages\",\"region\",\"subregion\",\"borders\"]\n",
    "table_model = table1.drop(columns=drop_cols, errors=\"ignore\")\n"
   ]
  },
  {
   "cell_type": "code",
   "execution_count": 9,
   "id": "95865b3d",
   "metadata": {},
   "outputs": [
    {
     "data": {
      "text/html": [
       "<div>\n",
       "<style scoped>\n",
       "    .dataframe tbody tr th:only-of-type {\n",
       "        vertical-align: middle;\n",
       "    }\n",
       "\n",
       "    .dataframe tbody tr th {\n",
       "        vertical-align: top;\n",
       "    }\n",
       "\n",
       "    .dataframe thead th {\n",
       "        text-align: right;\n",
       "    }\n",
       "</style>\n",
       "<table border=\"1\" class=\"dataframe\">\n",
       "  <thead>\n",
       "    <tr style=\"text-align: right;\">\n",
       "      <th></th>\n",
       "      <th>name</th>\n",
       "      <th>currency</th>\n",
       "      <th>capital</th>\n",
       "      <th>languages</th>\n",
       "      <th>latitude</th>\n",
       "      <th>longitude</th>\n",
       "      <th>area</th>\n",
       "      <th>region</th>\n",
       "      <th>subregion</th>\n",
       "      <th>borders</th>\n",
       "      <th>...</th>\n",
       "      <th>GDP Growth</th>\n",
       "      <th>Interest Rate</th>\n",
       "      <th>Inflation Rate</th>\n",
       "      <th>Jobless Rate</th>\n",
       "      <th>Gov. Budget</th>\n",
       "      <th>Debt/GDP</th>\n",
       "      <th>Current Account</th>\n",
       "      <th>Population</th>\n",
       "      <th>GDP_per_capita</th>\n",
       "      <th>growth_class</th>\n",
       "    </tr>\n",
       "  </thead>\n",
       "  <tbody>\n",
       "    <tr>\n",
       "      <th>0</th>\n",
       "      <td>Tunisia</td>\n",
       "      <td>Tunisian dinar</td>\n",
       "      <td>Tunis</td>\n",
       "      <td>Arabic</td>\n",
       "      <td>34.000000</td>\n",
       "      <td>9.000000</td>\n",
       "      <td>163610.0</td>\n",
       "      <td>Africa</td>\n",
       "      <td>Northern Africa</td>\n",
       "      <td>['DZA', 'LBY']</td>\n",
       "      <td>...</td>\n",
       "      <td>1.80</td>\n",
       "      <td>7.50</td>\n",
       "      <td>5.30</td>\n",
       "      <td>15.70</td>\n",
       "      <td>-6.600</td>\n",
       "      <td>79.8</td>\n",
       "      <td>-2.7</td>\n",
       "      <td>11.89</td>\n",
       "      <td>4457.527334</td>\n",
       "      <td>Slow</td>\n",
       "    </tr>\n",
       "    <tr>\n",
       "      <th>1</th>\n",
       "      <td>Vietnam</td>\n",
       "      <td>Vietnamese đồng</td>\n",
       "      <td>Hanoi</td>\n",
       "      <td>Vietnamese</td>\n",
       "      <td>16.166667</td>\n",
       "      <td>107.833333</td>\n",
       "      <td>331212.0</td>\n",
       "      <td>Asia</td>\n",
       "      <td>South-Eastern Asia</td>\n",
       "      <td>['KHM', 'CHN', 'LAO']</td>\n",
       "      <td>...</td>\n",
       "      <td>6.88</td>\n",
       "      <td>4.50</td>\n",
       "      <td>3.19</td>\n",
       "      <td>2.24</td>\n",
       "      <td>-4.000</td>\n",
       "      <td>32.9</td>\n",
       "      <td>6.1</td>\n",
       "      <td>101.30</td>\n",
       "      <td>4698.914116</td>\n",
       "      <td>Fast</td>\n",
       "    </tr>\n",
       "    <tr>\n",
       "      <th>2</th>\n",
       "      <td>Ecuador</td>\n",
       "      <td>United States dollar</td>\n",
       "      <td>Quito</td>\n",
       "      <td>Spanish</td>\n",
       "      <td>-2.000000</td>\n",
       "      <td>-77.500000</td>\n",
       "      <td>276841.0</td>\n",
       "      <td>Americas</td>\n",
       "      <td>South America</td>\n",
       "      <td>['COL', 'PER']</td>\n",
       "      <td>...</td>\n",
       "      <td>3.46</td>\n",
       "      <td>8.50</td>\n",
       "      <td>0.72</td>\n",
       "      <td>4.50</td>\n",
       "      <td>-1.900</td>\n",
       "      <td>50.6</td>\n",
       "      <td>2.8</td>\n",
       "      <td>17.97</td>\n",
       "      <td>6956.037841</td>\n",
       "      <td>Moderate</td>\n",
       "    </tr>\n",
       "    <tr>\n",
       "      <th>3</th>\n",
       "      <td>Puerto Rico</td>\n",
       "      <td>United States dollar</td>\n",
       "      <td>San Juan</td>\n",
       "      <td>English</td>\n",
       "      <td>18.250000</td>\n",
       "      <td>-66.500000</td>\n",
       "      <td>8870.0</td>\n",
       "      <td>Americas</td>\n",
       "      <td>Caribbean</td>\n",
       "      <td>NaN</td>\n",
       "      <td>...</td>\n",
       "      <td>0.70</td>\n",
       "      <td>5.25</td>\n",
       "      <td>1.20</td>\n",
       "      <td>5.70</td>\n",
       "      <td>-3.175</td>\n",
       "      <td>54.9</td>\n",
       "      <td>-1.0</td>\n",
       "      <td>3.20</td>\n",
       "      <td>39375.000000</td>\n",
       "      <td>Slow</td>\n",
       "    </tr>\n",
       "    <tr>\n",
       "      <th>4</th>\n",
       "      <td>United States</td>\n",
       "      <td>United States dollar</td>\n",
       "      <td>Washington, D.C.</td>\n",
       "      <td>English</td>\n",
       "      <td>38.000000</td>\n",
       "      <td>-97.000000</td>\n",
       "      <td>9372610.0</td>\n",
       "      <td>Americas</td>\n",
       "      <td>North America</td>\n",
       "      <td>['CAN', 'MEX']</td>\n",
       "      <td>...</td>\n",
       "      <td>3.00</td>\n",
       "      <td>4.50</td>\n",
       "      <td>2.70</td>\n",
       "      <td>4.20</td>\n",
       "      <td>-6.400</td>\n",
       "      <td>124.3</td>\n",
       "      <td>-3.9</td>\n",
       "      <td>341.15</td>\n",
       "      <td>85548.878792</td>\n",
       "      <td>Moderate</td>\n",
       "    </tr>\n",
       "  </tbody>\n",
       "</table>\n",
       "<p>5 rows × 21 columns</p>\n",
       "</div>"
      ],
      "text/plain": [
       "            name              currency           capital   languages  \\\n",
       "0        Tunisia        Tunisian dinar             Tunis      Arabic   \n",
       "1        Vietnam       Vietnamese đồng             Hanoi  Vietnamese   \n",
       "2        Ecuador  United States dollar             Quito     Spanish   \n",
       "3    Puerto Rico  United States dollar          San Juan     English   \n",
       "4  United States  United States dollar  Washington, D.C.     English   \n",
       "\n",
       "    latitude   longitude       area    region           subregion  \\\n",
       "0  34.000000    9.000000   163610.0    Africa     Northern Africa   \n",
       "1  16.166667  107.833333   331212.0      Asia  South-Eastern Asia   \n",
       "2  -2.000000  -77.500000   276841.0  Americas       South America   \n",
       "3  18.250000  -66.500000     8870.0  Americas           Caribbean   \n",
       "4  38.000000  -97.000000  9372610.0  Americas       North America   \n",
       "\n",
       "                 borders  ...  GDP Growth  Interest Rate  Inflation Rate  \\\n",
       "0         ['DZA', 'LBY']  ...        1.80           7.50            5.30   \n",
       "1  ['KHM', 'CHN', 'LAO']  ...        6.88           4.50            3.19   \n",
       "2         ['COL', 'PER']  ...        3.46           8.50            0.72   \n",
       "3                    NaN  ...        0.70           5.25            1.20   \n",
       "4         ['CAN', 'MEX']  ...        3.00           4.50            2.70   \n",
       "\n",
       "   Jobless Rate  Gov. Budget  Debt/GDP  Current Account  Population  \\\n",
       "0         15.70       -6.600      79.8             -2.7       11.89   \n",
       "1          2.24       -4.000      32.9              6.1      101.30   \n",
       "2          4.50       -1.900      50.6              2.8       17.97   \n",
       "3          5.70       -3.175      54.9             -1.0        3.20   \n",
       "4          4.20       -6.400     124.3             -3.9      341.15   \n",
       "\n",
       "   GDP_per_capita  growth_class  \n",
       "0     4457.527334          Slow  \n",
       "1     4698.914116          Fast  \n",
       "2     6956.037841      Moderate  \n",
       "3    39375.000000          Slow  \n",
       "4    85548.878792      Moderate  \n",
       "\n",
       "[5 rows x 21 columns]"
      ]
     },
     "execution_count": 9,
     "metadata": {},
     "output_type": "execute_result"
    }
   ],
   "source": [
    "table1.head()"
   ]
  },
  {
   "cell_type": "code",
   "execution_count": 10,
   "id": "2f84f720",
   "metadata": {},
   "outputs": [
    {
     "data": {
      "text/plain": [
       "<bound method NDFrame.describe of               name              currency           capital   languages  \\\n",
       "0          Tunisia        Tunisian dinar             Tunis      Arabic   \n",
       "1          Vietnam       Vietnamese đồng             Hanoi  Vietnamese   \n",
       "2          Ecuador  United States dollar             Quito     Spanish   \n",
       "3      Puerto Rico  United States dollar          San Juan     English   \n",
       "4    United States  United States dollar  Washington, D.C.     English   \n",
       "..             ...                   ...               ...         ...   \n",
       "168  New Caledonia             CFP franc            Nouméa      French   \n",
       "169         Kosovo                  Euro          Pristina    Albanian   \n",
       "170       Malaysia     Malaysian ringgit      Kuala Lumpur     English   \n",
       "171           Fiji         Fijian dollar              Suva     English   \n",
       "172        Jamaica       Jamaican dollar          Kingston     English   \n",
       "\n",
       "      latitude   longitude       area    region           subregion  \\\n",
       "0    34.000000    9.000000   163610.0    Africa     Northern Africa   \n",
       "1    16.166667  107.833333   331212.0      Asia  South-Eastern Asia   \n",
       "2    -2.000000  -77.500000   276841.0  Americas       South America   \n",
       "3    18.250000  -66.500000     8870.0  Americas           Caribbean   \n",
       "4    38.000000  -97.000000  9372610.0  Americas       North America   \n",
       "..         ...         ...        ...       ...                 ...   \n",
       "168 -21.500000  165.500000    18575.0   Oceania           Melanesia   \n",
       "169  42.666667   21.166667    10908.0    Europe    Southeast Europe   \n",
       "170   2.500000  112.500000   330803.0      Asia  South-Eastern Asia   \n",
       "171 -17.713400  178.065000    18272.0   Oceania           Melanesia   \n",
       "172  18.250000  -77.500000    10991.0  Americas           Caribbean   \n",
       "\n",
       "                          borders  ...  GDP Growth  Interest Rate  \\\n",
       "0                  ['DZA', 'LBY']  ...        1.80           7.50   \n",
       "1           ['KHM', 'CHN', 'LAO']  ...        6.88           4.50   \n",
       "2                  ['COL', 'PER']  ...        3.46           8.50   \n",
       "3                             NaN  ...        0.70           5.25   \n",
       "4                  ['CAN', 'MEX']  ...        3.00           4.50   \n",
       "..                            ...  ...         ...            ...   \n",
       "168                           NaN  ...        0.70           2.00   \n",
       "169  ['ALB', 'MKD', 'MNE', 'SRB']  ...        0.70           5.25   \n",
       "170         ['BRN', 'IDN', 'THA']  ...        2.10           2.75   \n",
       "171                           NaN  ...        0.70           0.25   \n",
       "172                           NaN  ...        0.80           5.75   \n",
       "\n",
       "     Inflation Rate  Jobless Rate  Gov. Budget  Debt/GDP  Current Account  \\\n",
       "0              5.30         15.70       -6.600      79.8             -2.7   \n",
       "1              3.19          2.24       -4.000      32.9              6.1   \n",
       "2              0.72          4.50       -1.900      50.6              2.8   \n",
       "3              1.20          5.70       -3.175      54.9             -1.0   \n",
       "4              2.70          4.20       -6.400     124.3             -3.9   \n",
       "..              ...           ...          ...       ...              ...   \n",
       "168            0.80         11.20       -3.175      54.9             -1.0   \n",
       "169            4.30         10.80        0.200      16.9             -9.0   \n",
       "170            1.20          3.00       -4.100      70.4              1.7   \n",
       "171           -0.40          4.30       -3.400      78.3             -8.7   \n",
       "172            3.30          3.30       -1.000      67.9              1.3   \n",
       "\n",
       "     Population  GDP_per_capita  growth_class  \n",
       "0         11.89     4457.527334          Slow  \n",
       "1        101.30     4698.914116          Fast  \n",
       "2         17.97     6956.037841      Moderate  \n",
       "3          3.20    39375.000000          Slow  \n",
       "4        341.15    85548.878792      Moderate  \n",
       "..          ...             ...           ...  \n",
       "168        0.29    34482.758621          Slow  \n",
       "169        1.60     6875.000000          Slow  \n",
       "170       34.10    12375.366569      Moderate  \n",
       "171        0.93     6451.612903          Slow  \n",
       "172        2.82     7092.198582          Slow  \n",
       "\n",
       "[173 rows x 21 columns]>"
      ]
     },
     "execution_count": 10,
     "metadata": {},
     "output_type": "execute_result"
    }
   ],
   "source": [
    "table1.describe"
   ]
  },
  {
   "cell_type": "markdown",
   "id": "33a500e7",
   "metadata": {},
   "source": [
    "# Introducing the data"
   ]
  },
  {
   "cell_type": "markdown",
   "id": "b49d02c1",
   "metadata": {},
   "source": [
    "name: The name of the country\n",
    "\n",
    "currency: The currency used in that country\n",
    "\n",
    "capital: The capital city of that country\n",
    "\n",
    "languages: The primary language(s) spoken in the country\n",
    "\n",
    "latitude: Geographic coordinate specifying how far north a country lies.\n",
    "\n",
    "longitude: Geographic coordinate specifying how far east or west a country lies.\n",
    "\n",
    "area: The land area of the country\n",
    "\n",
    "region: The geographical region \n",
    "\n",
    "subregion: A more specific regional grouping\n",
    "\n",
    "borders: A list of neighboring countries\n",
    "\n",
    "GDP: Gross Domestic Product\n",
    "\n",
    "GDP Growth: Annual percentage change in GDP, measuring the economic growth rate\n",
    "\n",
    "Interest Rate: The central bank’s interest rate, which influences the country's borrowing and lending\n",
    "\n",
    "Inflation Rate: A percentage increase in the general price level of goods and services\n",
    "\n",
    "Jobless Rate: The unemployment rate\n",
    "\n",
    "Gov. Budget: Government financial balance as a percentage of GDP\n",
    "\n",
    "Debt/GDP: The ratio of a country’s national debt to its GDP\n",
    "\n",
    "Current Account: Balance of payments measure\n",
    "\n",
    "Population: The total population of the country\n",
    "\n",
    "\n",
    "The ones made while pre-processing my data\n",
    "\n",
    "GDP_per_capita: GDP divided by population\n",
    "\n",
    "income_class: A categorize that puts countries into Low, Medium, or High income groups based on GDP per capita."
   ]
  },
  {
   "cell_type": "markdown",
   "id": "baf6b1d7",
   "metadata": {},
   "source": [
    "# Data Understanding/Visualization"
   ]
  },
  {
   "cell_type": "markdown",
   "id": "27bdc8b8",
   "metadata": {},
   "source": [
    "# Visual One: Growth Class Distribution"
   ]
  },
  {
   "cell_type": "code",
   "execution_count": 11,
   "id": "7dbfc8f3",
   "metadata": {},
   "outputs": [
    {
     "data": {
      "image/png": "[encoded data removed]",
      "text/plain": [
       "<Figure size 640x480 with 1 Axes>"
      ]
     },
     "metadata": {},
     "output_type": "display_data"
    }
   ],
   "source": [
    "table1[\"growth_class\"].value_counts().plot(kind=\"bar\")\n",
    "plt.title(\"Growth Class Distribution\")\n",
    "plt.xlabel(\"Growth Class\")\n",
    "plt.ylabel(\"Number of Countries\")\n",
    "plt.show()\n"
   ]
  },
  {
   "cell_type": "markdown",
   "id": "4f7ddeac",
   "metadata": {},
   "source": [
    "For my first visualization I made a simple bar chart to demonstrate growth class distribution for all the countries in the dataset I am using. As you can see in the visual most of the coutries are growing slowly, which answers my first question asking \"What are most coutries econmic growth rate?\"."
   ]
  },
  {
   "cell_type": "markdown",
   "id": "c377280c",
   "metadata": {},
   "source": [
    "# Visual Two: GDP per capita vs Inflation sorted by Growth Class"
   ]
  },
  {
   "cell_type": "code",
   "execution_count": 13,
   "id": "40c2c9ce",
   "metadata": {},
   "outputs": [
    {
     "data": {
      "image/png": "[encoded data removed]",
      "text/plain": [
       "<Figure size 640x480 with 2 Axes>"
      ]
     },
     "metadata": {},
     "output_type": "display_data"
    }
   ],
   "source": [
    "table1.plot(\n",
    "    x=\"GDP_per_capita\",\n",
    "    y=\"Inflation Rate\",\n",
    "    kind=\"scatter\",\n",
    "    c=table1[\"growth_class\"].cat.codes,\n",
    "    colormap=\"viridis\"\n",
    ")\n",
    "plt.title(\"GDP per Capita vs The Inflation Rate \" \\\n",
    "\"Sorted by Growth Classes\")\n",
    "plt.xlabel(\"GDP per Capita\")\n",
    "plt.ylabel(\"Inflation Rate (by percentage)\")\n",
    "plt.show()\n",
    "\n"
   ]
  },
  {
   "cell_type": "markdown",
   "id": "cea2e608",
   "metadata": {},
   "source": [
    "For my second visual I went more into detail showing the GDP per capita vs the inflation rate sorted by the growth classes. This visual help shows whether fast-growing countries are clustered by wealth and inflation or not. Using coloring the lighter the color symbolizes fast growing economies and the darker color means slower growing economies. From looking at this visual you can see a correlation between slow growing economies and an high inflation rates. "
   ]
  },
  {
   "cell_type": "markdown",
   "id": "d1676a8a",
   "metadata": {},
   "source": [
    "# Model: Random forest "
   ]
  },
  {
   "cell_type": "markdown",
   "id": "7d8e97c7",
   "metadata": {},
   "source": [
    "for this project I am using the random forest model for my dataset. I chose this model because random forest would work best with my dataset, this is because I have a relativly small dataset consisting of 173 rows and 19 colummns. My dataset also has categorical variables which works very will with the random forest model. "
   ]
  },
  {
   "cell_type": "code",
   "execution_count": 7,
   "id": "b752515d",
   "metadata": {},
   "outputs": [
    {
     "data": {
      "text/plain": [
       "(173, 19)"
      ]
     },
     "execution_count": 7,
     "metadata": {},
     "output_type": "execute_result"
    }
   ],
   "source": [
    "table1.shape"
   ]
  },
  {
   "cell_type": "code",
   "execution_count": 70,
   "id": "724d0ec0",
   "metadata": {},
   "outputs": [
    {
     "name": "stdout",
     "output_type": "stream",
     "text": [
      "Random Forest Accuracy: 1.0\n"
     ]
    },
    {
     "data": {
      "image/png": "[encoded data removed]",
      "text/plain": [
       "<Figure size 640x480 with 1 Axes>"
      ]
     },
     "metadata": {},
     "output_type": "display_data"
    }
   ],
   "source": [
    "X = table_model.drop(columns=[\"growth_class\"])\n",
    "y = table_model[\"growth_class\"]\n",
    "\n",
    "X_train, X_test, y_train, y_test = train_test_split(X, y, test_size=0.2, random_state=42)\n",
    "\n",
    "ranf_model = RandomForestClassifier(n_estimators=100, random_state=42)\n",
    "ranf_model.fit(X_train, y_train)\n",
    "\n",
    "y_pred = ranf_model.predict(X_test)\n",
    "print(\"Random Forest Accuracy:\", accuracy_score(y_test, y_pred))\n",
    "\n",
    "pd.Series(ranf_model.feature_importances_, index=X.columns).sort_values(ascending=False).plot(kind=\"bar\")\n",
    "plt.title(\"feature importance used in the random forest\")\n",
    "plt.ylabel(\"importance level\")\n",
    "plt.show()\n"
   ]
  },
  {
   "cell_type": "markdown",
   "id": "9b297ed6",
   "metadata": {},
   "source": [
    "What I did for my random forest model is I trained 100 decision trees using the dataset. Each tree should makes a guess on which growth category a country belongs to  based on its economic indicators (GDP, inflation, etc), then the forest will takes a vote. This is supposed to makes the predictions more accurate and less biased than using just one tree.\n",
    "\n",
    "Pros: \n",
    "- More accurate because it combines 100 trees\n",
    "- Works well with lots of features\n",
    "\n",
    "Cons: \n",
    "- Harder to understand"
   ]
  },
  {
   "cell_type": "markdown",
   "id": "bc71e9cc",
   "metadata": {},
   "source": [
    "# Model: Decision Tree"
   ]
  },
  {
   "cell_type": "markdown",
   "id": "bd38b29d",
   "metadata": {},
   "source": [
    "In this project, I used a decision tree because it is simple and provides clear decision rules, making it easy to understand how economic indicators relate to growth classes."
   ]
  },
  {
   "cell_type": "code",
   "execution_count": null,
   "id": "e0e84ea6",
   "metadata": {},
   "outputs": [
    {
     "name": "stdout",
     "output_type": "stream",
     "text": [
      " Accuracy: 1.0\n",
      "              precision    recall  f1-score   support\n",
      "\n",
      "    Moderate       1.00      1.00      1.00         1\n",
      "        Slow       1.00      1.00      1.00        34\n",
      "\n",
      "    accuracy                           1.00        35\n",
      "   macro avg       1.00      1.00      1.00        35\n",
      "weighted avg       1.00      1.00      1.00        35\n",
      "\n"
     ]
    },
    {
     "data": {
      "image/png": "[encoded data removed]",
      "text/plain": [
       "<Figure size 640x480 with 2 Axes>"
      ]
     },
     "metadata": {},
     "output_type": "display_data"
    }
   ],
   "source": [
    "table1_model = DecisionTreeClassifier(max_depth=3, random_state=42)\n",
    "table1_model.fit(X_train, y_train)\n",
    "\n",
    "y_pred_table1 = table1_model.predict(X_test)\n",
    "\n",
    "print(\"Accuracy:\", accuracy_score(y_test, y_pred_table1))\n",
    "print(classification_report(y_test, y_pred_table1))\n",
    "\n",
    "ConfusionMatrixDisplay.from_estimator(table1_model, X_test, y_test)\n",
    "plt.title(\"confusion matrix for decision tree model\")\n",
    "plt.show()"
   ]
  },
  {
   "cell_type": "markdown",
   "id": "cb3a993d",
   "metadata": {},
   "source": [
    "In my decision tree what I did was trained a single decision tree that asks yes and no questions about econmic growth factors like GDP or inflation until it picks a growth class. \n",
    "\n",
    "Pros: \n",
    "- Easy to understand\n",
    "\n",
    "Cons: \n",
    "- It is less accurate than random forest\n",
    "- only uses one tree, so not good for a big picture"
   ]
  },
  {
   "cell_type": "markdown",
   "id": "09b19b74",
   "metadata": {},
   "source": [
    "# Evaluation "
   ]
  },
  {
   "cell_type": "markdown",
   "id": "e228504e",
   "metadata": {},
   "source": [
    "For this project I trained and tested two models, the first one being random forest and then I used decision tree. In both the random forest and decision tree, it received an accuracy percentage of 100%. I used accuracy as one of my metric since it is a simple way to measure overall performance across the three growth classes (slow, moderate, fast). For the decision tree model I evaluated it with a confusion matrix and classification report, which showed where the model struggled to separate classes. In the random rorest model I focused on which features were most important for predicting growth, with one variable (GDP growth) standing out. Overall, the random forest performed better, but the Decision Tree was easier to interpret. Together, they show both the performance and reasoning behind the classifications."
   ]
  },
  {
   "cell_type": "markdown",
   "id": "887adcd4",
   "metadata": {},
   "source": [
    "# Storytelling"
   ]
  },
  {
   "cell_type": "markdown",
   "id": "ddf3accc",
   "metadata": {},
   "source": [
    "For this project, I chose a dataset about global economic indicators to see what countries would be classified into a slow, moderate, or fast growth categories. I did this because I wanted to see what makes some countries' economic growth faster than others, and if there are some economic indicators they share. For my first visual, I showed the distribution of growth classes. This is visual shows how many countries fall into each group, providing a big-picture view before analysing more. The second chart compares GDP per capita and inflation rates, with the percentages colored by growth class. This shows that fast-growth countries often have higher GDP per capita and stable inflation, while slow-growth countries tend to face higher inflation rates. After the visuals, I trained a random forest model to identify important predictors like GDP growth and population size. The model had a high accuracy, demonstrating that these indicators can be noticed between different growth categories. I also used a decision tree model to provide a simpler structure that shows how factors like GDP growth and population are important to classify a country. Overall, my project suggests that factors like stable inflation and increasing income levels correlate with faster economic growth. "
   ]
  },
  {
   "cell_type": "markdown",
   "id": "f0f1352f",
   "metadata": {},
   "source": [
    "# Impact Section"
   ]
  },
  {
   "cell_type": "markdown",
   "id": "de07b228",
   "metadata": {},
   "source": [
    "The Impact my project is to inform the public about the worlds econmic growth rate. I wanted to show how some factors like high inflation or unemployment can create a big impact on a countries econmic growth rate. My project could cause harm by having misleading data or missing data leading to incorrect information. Overall I hope my project can be helpful for the countries with a slow econmic growth rate so they can compare to the countries with a fast econmic growth rate. "
   ]
  }
 ],
 "metadata": {
  "kernelspec": {
   "display_name": "classenv",
   "language": "python",
   "name": "python3"
  },
  "language_info": {
   "codemirror_mode": {
    "name": "ipython",
    "version": 3
   },
   "file_extension": ".py",
   "mimetype": "text/x-python",
   "name": "python",
   "nbconvert_exporter": "python",
   "pygments_lexer": "ipython3",
   "version": "3.12.11"
  }
 },
 "nbformat": 4,
 "nbformat_minor": 5
}
