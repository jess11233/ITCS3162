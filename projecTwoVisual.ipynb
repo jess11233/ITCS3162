{
 "cells": [
  {
   "cell_type": "markdown",
   "id": "699bdfed",
   "metadata": {},
   "source": [
    "# Introduction"
   ]
  },
  {
   "cell_type": "markdown",
   "id": "c5573381",
   "metadata": {},
   "source": [
    "My dataset is about the world economic and the classification problem I would like to solve if a country is having fast, moderate, or slow growth. My target variables would be high, moderate, and low growth"
   ]
  },
  {
   "cell_type": "markdown",
   "id": "e9c68aea",
   "metadata": {},
   "source": [
    "# Pre-processing data"
   ]
  },
  {
   "cell_type": "code",
   "execution_count": 1,
   "id": "cd9dad47",
   "metadata": {},
   "outputs": [],
   "source": [
    "import pandas as pd "
   ]
  },
  {
   "cell_type": "code",
   "execution_count": 2,
   "id": "26cc37b4",
   "metadata": {},
   "outputs": [],
   "source": [
    "import matplotlib.pyplot as plt"
   ]
  },
  {
   "cell_type": "code",
   "execution_count": 4,
   "id": "f98819b7",
   "metadata": {},
   "outputs": [],
   "source": [
    "table1 = pd.read_csv(r\"C:\\Users\\jesss\\OneDrive\\Documents\\GitHub\\ITCS3162\\world_economics.csv\")"
   ]
  },
  {
   "cell_type": "markdown",
   "id": "e859fc01",
   "metadata": {},
   "source": [
    "Showing the dataset:"
   ]
  },
  {
   "cell_type": "code",
   "execution_count": 5,
   "id": "b96a2c8a",
   "metadata": {},
   "outputs": [
    {
     "data": {
      "text/html": [
       "<div>\n",
       "<style scoped>\n",
       "    .dataframe tbody tr th:only-of-type {\n",
       "        vertical-align: middle;\n",
       "    }\n",
       "\n",
       "    .dataframe tbody tr th {\n",
       "        vertical-align: top;\n",
       "    }\n",
       "\n",
       "    .dataframe thead th {\n",
       "        text-align: right;\n",
       "    }\n",
       "</style>\n",
       "<table border=\"1\" class=\"dataframe\">\n",
       "  <thead>\n",
       "    <tr style=\"text-align: right;\">\n",
       "      <th></th>\n",
       "      <th>name</th>\n",
       "      <th>currency</th>\n",
       "      <th>capital</th>\n",
       "      <th>languages</th>\n",
       "      <th>latitude</th>\n",
       "      <th>longitude</th>\n",
       "      <th>area</th>\n",
       "      <th>region</th>\n",
       "      <th>subregion</th>\n",
       "      <th>borders</th>\n",
       "      <th>GDP</th>\n",
       "      <th>GDP Growth</th>\n",
       "      <th>Interest Rate</th>\n",
       "      <th>Inflation Rate</th>\n",
       "      <th>Jobless Rate</th>\n",
       "      <th>Gov. Budget</th>\n",
       "      <th>Debt/GDP</th>\n",
       "      <th>Current Account</th>\n",
       "      <th>Population</th>\n",
       "    </tr>\n",
       "  </thead>\n",
       "  <tbody>\n",
       "    <tr>\n",
       "      <th>0</th>\n",
       "      <td>Tunisia</td>\n",
       "      <td>Tunisian dinar</td>\n",
       "      <td>Tunis</td>\n",
       "      <td>Arabic</td>\n",
       "      <td>34.000000</td>\n",
       "      <td>9.000000</td>\n",
       "      <td>163610.0</td>\n",
       "      <td>Africa</td>\n",
       "      <td>Northern Africa</td>\n",
       "      <td>['DZA', 'LBY']</td>\n",
       "      <td>53</td>\n",
       "      <td>1.80</td>\n",
       "      <td>7.5</td>\n",
       "      <td>5.30</td>\n",
       "      <td>15.70</td>\n",
       "      <td>-6.6</td>\n",
       "      <td>79.8</td>\n",
       "      <td>-2.7</td>\n",
       "      <td>11.89</td>\n",
       "    </tr>\n",
       "    <tr>\n",
       "      <th>1</th>\n",
       "      <td>Vietnam</td>\n",
       "      <td>Vietnamese đồng</td>\n",
       "      <td>Hanoi</td>\n",
       "      <td>Vietnamese</td>\n",
       "      <td>16.166667</td>\n",
       "      <td>107.833333</td>\n",
       "      <td>331212.0</td>\n",
       "      <td>Asia</td>\n",
       "      <td>South-Eastern Asia</td>\n",
       "      <td>['KHM', 'CHN', 'LAO']</td>\n",
       "      <td>476</td>\n",
       "      <td>6.88</td>\n",
       "      <td>4.5</td>\n",
       "      <td>3.19</td>\n",
       "      <td>2.24</td>\n",
       "      <td>-4.0</td>\n",
       "      <td>32.9</td>\n",
       "      <td>6.1</td>\n",
       "      <td>101.30</td>\n",
       "    </tr>\n",
       "    <tr>\n",
       "      <th>2</th>\n",
       "      <td>Ecuador</td>\n",
       "      <td>United States dollar</td>\n",
       "      <td>Quito</td>\n",
       "      <td>Spanish</td>\n",
       "      <td>-2.000000</td>\n",
       "      <td>-77.500000</td>\n",
       "      <td>276841.0</td>\n",
       "      <td>Americas</td>\n",
       "      <td>South America</td>\n",
       "      <td>['COL', 'PER']</td>\n",
       "      <td>125</td>\n",
       "      <td>3.46</td>\n",
       "      <td>8.5</td>\n",
       "      <td>0.72</td>\n",
       "      <td>4.50</td>\n",
       "      <td>-1.9</td>\n",
       "      <td>50.6</td>\n",
       "      <td>2.8</td>\n",
       "      <td>17.97</td>\n",
       "    </tr>\n",
       "    <tr>\n",
       "      <th>3</th>\n",
       "      <td>Puerto Rico</td>\n",
       "      <td>United States dollar</td>\n",
       "      <td>San Juan</td>\n",
       "      <td>English</td>\n",
       "      <td>18.250000</td>\n",
       "      <td>-66.500000</td>\n",
       "      <td>8870.0</td>\n",
       "      <td>Americas</td>\n",
       "      <td>Caribbean</td>\n",
       "      <td>NaN</td>\n",
       "      <td>126</td>\n",
       "      <td>NaN</td>\n",
       "      <td>NaN</td>\n",
       "      <td>1.20</td>\n",
       "      <td>5.70</td>\n",
       "      <td>NaN</td>\n",
       "      <td>NaN</td>\n",
       "      <td>NaN</td>\n",
       "      <td>3.20</td>\n",
       "    </tr>\n",
       "    <tr>\n",
       "      <th>4</th>\n",
       "      <td>United States</td>\n",
       "      <td>United States dollar</td>\n",
       "      <td>Washington, D.C.</td>\n",
       "      <td>English</td>\n",
       "      <td>38.000000</td>\n",
       "      <td>-97.000000</td>\n",
       "      <td>9372610.0</td>\n",
       "      <td>Americas</td>\n",
       "      <td>North America</td>\n",
       "      <td>['CAN', 'MEX']</td>\n",
       "      <td>29185</td>\n",
       "      <td>3.00</td>\n",
       "      <td>4.5</td>\n",
       "      <td>2.70</td>\n",
       "      <td>4.20</td>\n",
       "      <td>-6.4</td>\n",
       "      <td>124.3</td>\n",
       "      <td>-3.9</td>\n",
       "      <td>341.15</td>\n",
       "    </tr>\n",
       "  </tbody>\n",
       "</table>\n",
       "</div>"
      ],
      "text/plain": [
       "            name              currency           capital   languages  \\\n",
       "0        Tunisia        Tunisian dinar             Tunis      Arabic   \n",
       "1        Vietnam       Vietnamese đồng             Hanoi  Vietnamese   \n",
       "2        Ecuador  United States dollar             Quito     Spanish   \n",
       "3    Puerto Rico  United States dollar          San Juan     English   \n",
       "4  United States  United States dollar  Washington, D.C.     English   \n",
       "\n",
       "    latitude   longitude       area    region           subregion  \\\n",
       "0  34.000000    9.000000   163610.0    Africa     Northern Africa   \n",
       "1  16.166667  107.833333   331212.0      Asia  South-Eastern Asia   \n",
       "2  -2.000000  -77.500000   276841.0  Americas       South America   \n",
       "3  18.250000  -66.500000     8870.0  Americas           Caribbean   \n",
       "4  38.000000  -97.000000  9372610.0  Americas       North America   \n",
       "\n",
       "                 borders    GDP  GDP Growth  Interest Rate  Inflation Rate  \\\n",
       "0         ['DZA', 'LBY']     53        1.80            7.5            5.30   \n",
       "1  ['KHM', 'CHN', 'LAO']    476        6.88            4.5            3.19   \n",
       "2         ['COL', 'PER']    125        3.46            8.5            0.72   \n",
       "3                    NaN    126         NaN            NaN            1.20   \n",
       "4         ['CAN', 'MEX']  29185        3.00            4.5            2.70   \n",
       "\n",
       "   Jobless Rate  Gov. Budget  Debt/GDP  Current Account  Population  \n",
       "0         15.70         -6.6      79.8             -2.7       11.89  \n",
       "1          2.24         -4.0      32.9              6.1      101.30  \n",
       "2          4.50         -1.9      50.6              2.8       17.97  \n",
       "3          5.70          NaN       NaN              NaN        3.20  \n",
       "4          4.20         -6.4     124.3             -3.9      341.15  "
      ]
     },
     "execution_count": 5,
     "metadata": {},
     "output_type": "execute_result"
    }
   ],
   "source": [
    "table1.head()"
   ]
  },
  {
   "cell_type": "markdown",
   "id": "d1676a8a",
   "metadata": {},
   "source": [
    "# Model: Random forest "
   ]
  },
  {
   "cell_type": "markdown",
   "id": "7d8e97c7",
   "metadata": {},
   "source": [
    "for this project I plan on using the random forest model for my dataset. I chose this model because random forest would work best with my dataset, this is because I have a relativly small dataset consisting of 173 rows and 19 colummns. My dataset also has categorical variables which works very will with the random forest model. "
   ]
  },
  {
   "cell_type": "code",
   "execution_count": 7,
   "id": "b752515d",
   "metadata": {},
   "outputs": [
    {
     "data": {
      "text/plain": [
       "(173, 19)"
      ]
     },
     "execution_count": 7,
     "metadata": {},
     "output_type": "execute_result"
    }
   ],
   "source": [
    "table1.shape"
   ]
  }
 ],
 "metadata": {
  "kernelspec": {
   "display_name": "classenv",
   "language": "python",
   "name": "python3"
  },
  "language_info": {
   "codemirror_mode": {
    "name": "ipython",
    "version": 3
   },
   "file_extension": ".py",
   "mimetype": "text/x-python",
   "name": "python",
   "nbconvert_exporter": "python",
   "pygments_lexer": "ipython3",
   "version": "3.12.11"
  }
 },
 "nbformat": 4,
 "nbformat_minor": 5
}
