{
 "cells": [
  {
   "cell_type": "markdown",
   "id": "27e44920",
   "metadata": {},
   "source": [
    "# Introduction"
   ]
  },
  {
   "cell_type": "markdown",
   "id": "d0802adf",
   "metadata": {},
   "source": [
    "For this project I would like to know what are the major factors assoociated with predicting an individuals medical insurance costs. Medical insurance is very important for nearly everyone so the purpose of my analying this dataset is to provid people with a better understanding of the costs assocated with medical insurance. Within this project I plan on appling multiple regression analysis to predict the cost of insurance based on demographic and lifestyle attributes such as age, BMI, smoking status, and region. The main goal is to explore how each of these variables impacts insurance charges and to build models that can accurately estimate an individual’s expected medical insurance cost."
   ]
  },
  {
   "cell_type": "markdown",
   "id": "2a1f7cdd",
   "metadata": {},
   "source": [
    "# Main Questions "
   ]
  },
  {
   "cell_type": "markdown",
   "id": "393fcaac",
   "metadata": {},
   "source": [
    "- What factors in a persons life can influence an individual’s medical insurance cost the most?\n",
    "- What ethical or social implications can come from predicting insurance costs based on personal data?\n",
    "- How well can we actually accurately predict a person’s medical insurance cost using regression models?\n",
    "- what regrssion model would be best for predicting this type of dataset (???)"
   ]
  },
  {
   "cell_type": "markdown",
   "id": "6b65e25c",
   "metadata": {},
   "source": [
    "# What is regression and how does it work?"
   ]
  },
  {
   "cell_type": "markdown",
   "id": "05249717",
   "metadata": {},
   "source": [
    "Regression is a type of way to predict a continuous value, like insurance costs, based on other related factors. It works by finding a line or pattern that best fits the data and shows how changes in one variable affect the result. For my project, I used regression to predict a person’s medical insurance charges using features such as age, BMI, number of children, sex, smoking status, and region. I plan on using regression by testing the model’s accuracy using R^2 and going to try multiple experiments, such as adding new features and using ridge regression to improve results. Overall, I am going to use regression to help me predict if factors like smoking and age have the biggest effect on predicting insurance charges."
   ]
  },
  {
   "cell_type": "code",
   "execution_count": 1,
   "id": "1d5b170a",
   "metadata": {},
   "outputs": [],
   "source": [
    "import pandas as pd\n",
    "import numpy as np\n",
    "import matplotlib.pyplot as plt\n",
    "import seaborn as sns\n",
    "from sklearn.model_selection import train_test_split\n",
    "from sklearn.preprocessing import StandardScaler, LabelEncoder\n",
    "from sklearn.linear_model import LinearRegression, Ridge, Lasso\n",
    "from sklearn.tree import DecisionTreeRegressor\n",
    "from sklearn.ensemble import RandomForestRegressor\n",
    "from sklearn.metrics import mean_squared_error, r2_score\n"
   ]
  },
  {
   "cell_type": "code",
   "execution_count": 2,
   "id": "6b3a3d32",
   "metadata": {},
   "outputs": [],
   "source": [
    "table1 = pd.read_csv(r\"C:\\Users\\jesss\\OneDrive\\Documents\\GitHub\\ITCS3162\\datasets\\insurance.csv\")"
   ]
  },
  {
   "cell_type": "code",
   "execution_count": 3,
   "id": "51426653",
   "metadata": {},
   "outputs": [
    {
     "data": {
      "text/html": [
       "<div>\n",
       "<style scoped>\n",
       "    .dataframe tbody tr th:only-of-type {\n",
       "        vertical-align: middle;\n",
       "    }\n",
       "\n",
       "    .dataframe tbody tr th {\n",
       "        vertical-align: top;\n",
       "    }\n",
       "\n",
       "    .dataframe thead th {\n",
       "        text-align: right;\n",
       "    }\n",
       "</style>\n",
       "<table border=\"1\" class=\"dataframe\">\n",
       "  <thead>\n",
       "    <tr style=\"text-align: right;\">\n",
       "      <th></th>\n",
       "      <th>age</th>\n",
       "      <th>sex</th>\n",
       "      <th>bmi</th>\n",
       "      <th>children</th>\n",
       "      <th>smoker</th>\n",
       "      <th>region</th>\n",
       "      <th>charges</th>\n",
       "    </tr>\n",
       "  </thead>\n",
       "  <tbody>\n",
       "    <tr>\n",
       "      <th>0</th>\n",
       "      <td>19</td>\n",
       "      <td>female</td>\n",
       "      <td>27.900</td>\n",
       "      <td>0</td>\n",
       "      <td>yes</td>\n",
       "      <td>southwest</td>\n",
       "      <td>16884.92400</td>\n",
       "    </tr>\n",
       "    <tr>\n",
       "      <th>1</th>\n",
       "      <td>18</td>\n",
       "      <td>male</td>\n",
       "      <td>33.770</td>\n",
       "      <td>1</td>\n",
       "      <td>no</td>\n",
       "      <td>southeast</td>\n",
       "      <td>1725.55230</td>\n",
       "    </tr>\n",
       "    <tr>\n",
       "      <th>2</th>\n",
       "      <td>28</td>\n",
       "      <td>male</td>\n",
       "      <td>33.000</td>\n",
       "      <td>3</td>\n",
       "      <td>no</td>\n",
       "      <td>southeast</td>\n",
       "      <td>4449.46200</td>\n",
       "    </tr>\n",
       "    <tr>\n",
       "      <th>3</th>\n",
       "      <td>33</td>\n",
       "      <td>male</td>\n",
       "      <td>22.705</td>\n",
       "      <td>0</td>\n",
       "      <td>no</td>\n",
       "      <td>northwest</td>\n",
       "      <td>21984.47061</td>\n",
       "    </tr>\n",
       "    <tr>\n",
       "      <th>4</th>\n",
       "      <td>32</td>\n",
       "      <td>male</td>\n",
       "      <td>28.880</td>\n",
       "      <td>0</td>\n",
       "      <td>no</td>\n",
       "      <td>northwest</td>\n",
       "      <td>3866.85520</td>\n",
       "    </tr>\n",
       "  </tbody>\n",
       "</table>\n",
       "</div>"
      ],
      "text/plain": [
       "   age     sex     bmi  children smoker     region      charges\n",
       "0   19  female  27.900         0    yes  southwest  16884.92400\n",
       "1   18    male  33.770         1     no  southeast   1725.55230\n",
       "2   28    male  33.000         3     no  southeast   4449.46200\n",
       "3   33    male  22.705         0     no  northwest  21984.47061\n",
       "4   32    male  28.880         0     no  northwest   3866.85520"
      ]
     },
     "execution_count": 3,
     "metadata": {},
     "output_type": "execute_result"
    }
   ],
   "source": [
    "table1.head()"
   ]
  },
  {
   "cell_type": "markdown",
   "id": "2d67f184",
   "metadata": {},
   "source": [
    "# Pre-processing Data"
   ]
  },
  {
   "cell_type": "markdown",
   "id": "0182496e",
   "metadata": {},
   "source": [
    "For pre-processing the data I changed text values like “male” and “female” or “yes” and “no” into numbers to amke it easier to understand, created new columns for each region to better balance out all the factors, and then scaled the data so all features were on a similar range. I did this to make it easier for the regression model to learn and make accurate predictions."
   ]
  },
  {
   "cell_type": "code",
   "execution_count": null,
   "id": "e3d172ca",
   "metadata": {},
   "outputs": [],
   "source": [
    "table1['sex'] = table1['sex'].map({'male': 1, 'female': 0})\n",
    "table1['smoker'] = table1['smoker'].map({'yes': 1, 'no': 0})\n",
    "\n",
    "table1 = pd.get_dummies(table1, columns=['region'], drop_first=True)\n",
    "\n",
    "X = table1.drop('charges', axis=1) \n",
    "y = table1['charges']              \n",
    "\n",
    "X_train, X_test, y_train, y_test = train_test_split(\n",
    "    X, y, test_size=0.2, random_state=42\n",
    ")\n",
    "\n",
    "scaler = StandardScaler()\n",
    "X_train_scaled = scaler.fit_transform(X_train)\n",
    "X_test_scaled = scaler.transform(X_test)\n"
   ]
  },
  {
   "cell_type": "code",
   "execution_count": 5,
   "id": "56dfdd4c",
   "metadata": {},
   "outputs": [
    {
     "data": {
      "text/html": [
       "<div>\n",
       "<style scoped>\n",
       "    .dataframe tbody tr th:only-of-type {\n",
       "        vertical-align: middle;\n",
       "    }\n",
       "\n",
       "    .dataframe tbody tr th {\n",
       "        vertical-align: top;\n",
       "    }\n",
       "\n",
       "    .dataframe thead th {\n",
       "        text-align: right;\n",
       "    }\n",
       "</style>\n",
       "<table border=\"1\" class=\"dataframe\">\n",
       "  <thead>\n",
       "    <tr style=\"text-align: right;\">\n",
       "      <th></th>\n",
       "      <th>age</th>\n",
       "      <th>sex</th>\n",
       "      <th>bmi</th>\n",
       "      <th>children</th>\n",
       "      <th>smoker</th>\n",
       "      <th>charges</th>\n",
       "      <th>region_northwest</th>\n",
       "      <th>region_southeast</th>\n",
       "      <th>region_southwest</th>\n",
       "    </tr>\n",
       "  </thead>\n",
       "  <tbody>\n",
       "    <tr>\n",
       "      <th>0</th>\n",
       "      <td>19</td>\n",
       "      <td>0</td>\n",
       "      <td>27.900</td>\n",
       "      <td>0</td>\n",
       "      <td>1</td>\n",
       "      <td>16884.92400</td>\n",
       "      <td>False</td>\n",
       "      <td>False</td>\n",
       "      <td>True</td>\n",
       "    </tr>\n",
       "    <tr>\n",
       "      <th>1</th>\n",
       "      <td>18</td>\n",
       "      <td>1</td>\n",
       "      <td>33.770</td>\n",
       "      <td>1</td>\n",
       "      <td>0</td>\n",
       "      <td>1725.55230</td>\n",
       "      <td>False</td>\n",
       "      <td>True</td>\n",
       "      <td>False</td>\n",
       "    </tr>\n",
       "    <tr>\n",
       "      <th>2</th>\n",
       "      <td>28</td>\n",
       "      <td>1</td>\n",
       "      <td>33.000</td>\n",
       "      <td>3</td>\n",
       "      <td>0</td>\n",
       "      <td>4449.46200</td>\n",
       "      <td>False</td>\n",
       "      <td>True</td>\n",
       "      <td>False</td>\n",
       "    </tr>\n",
       "    <tr>\n",
       "      <th>3</th>\n",
       "      <td>33</td>\n",
       "      <td>1</td>\n",
       "      <td>22.705</td>\n",
       "      <td>0</td>\n",
       "      <td>0</td>\n",
       "      <td>21984.47061</td>\n",
       "      <td>True</td>\n",
       "      <td>False</td>\n",
       "      <td>False</td>\n",
       "    </tr>\n",
       "    <tr>\n",
       "      <th>4</th>\n",
       "      <td>32</td>\n",
       "      <td>1</td>\n",
       "      <td>28.880</td>\n",
       "      <td>0</td>\n",
       "      <td>0</td>\n",
       "      <td>3866.85520</td>\n",
       "      <td>True</td>\n",
       "      <td>False</td>\n",
       "      <td>False</td>\n",
       "    </tr>\n",
       "  </tbody>\n",
       "</table>\n",
       "</div>"
      ],
      "text/plain": [
       "   age  sex     bmi  children  smoker      charges  region_northwest  \\\n",
       "0   19    0  27.900         0       1  16884.92400             False   \n",
       "1   18    1  33.770         1       0   1725.55230             False   \n",
       "2   28    1  33.000         3       0   4449.46200             False   \n",
       "3   33    1  22.705         0       0  21984.47061              True   \n",
       "4   32    1  28.880         0       0   3866.85520              True   \n",
       "\n",
       "   region_southeast  region_southwest  \n",
       "0             False              True  \n",
       "1              True             False  \n",
       "2              True             False  \n",
       "3             False             False  \n",
       "4             False             False  "
      ]
     },
     "execution_count": 5,
     "metadata": {},
     "output_type": "execute_result"
    }
   ],
   "source": [
    "table1.head()"
   ]
  },
  {
   "cell_type": "markdown",
   "id": "411758e9",
   "metadata": {},
   "source": [
    "# Introducing The Data"
   ]
  },
  {
   "cell_type": "markdown",
   "id": "a9042f21",
   "metadata": {},
   "source": [
    "Age: How old the insured individual is\n",
    "\n",
    "Sex: If the individual is male of female\n",
    "\n",
    "BMI: The individuals body fat based on height and weight\n",
    "\n",
    "Childern: The amount childern the insured individual has\n",
    "\n",
    "Smoker: If the individual is a smoker or not\n",
    "\n",
    "Charges: The total medical insurance cost billed to the customer\n",
    "\n",
    "Region_Northwest: The individual lives in the Northwest part of the U.S\n",
    "\n",
    "Region_SoutEast: The individual lives in the SouthEast part of the U.S\n",
    "\n",
    "Region_SouthWest: The individual lives in the SouthWest part of the U.S"
   ]
  },
  {
   "cell_type": "code",
   "execution_count": 33,
   "id": "b703d1a9",
   "metadata": {},
   "outputs": [
    {
     "data": {
      "text/plain": [
       "<bound method NDFrame.describe of       age  sex     bmi  children  smoker      charges  region_northwest  \\\n",
       "0      19    0  27.900         0       1  16884.92400             False   \n",
       "1      18    1  33.770         1       0   1725.55230             False   \n",
       "2      28    1  33.000         3       0   4449.46200             False   \n",
       "3      33    1  22.705         0       0  21984.47061              True   \n",
       "4      32    1  28.880         0       0   3866.85520              True   \n",
       "...   ...  ...     ...       ...     ...          ...               ...   \n",
       "1333   50    1  30.970         3       0  10600.54830              True   \n",
       "1334   18    0  31.920         0       0   2205.98080             False   \n",
       "1335   18    0  36.850         0       0   1629.83350             False   \n",
       "1336   21    0  25.800         0       0   2007.94500             False   \n",
       "1337   61    0  29.070         0       1  29141.36030              True   \n",
       "\n",
       "      region_southeast  region_southwest  bmi_squared  \n",
       "0                False              True   778.410000  \n",
       "1                 True             False  1140.412900  \n",
       "2                 True             False  1089.000000  \n",
       "3                False             False   515.517025  \n",
       "4                False             False   834.054400  \n",
       "...                ...               ...          ...  \n",
       "1333             False             False   959.140900  \n",
       "1334             False             False  1018.886400  \n",
       "1335              True             False  1357.922500  \n",
       "1336             False              True   665.640000  \n",
       "1337             False             False   845.064900  \n",
       "\n",
       "[1338 rows x 10 columns]>"
      ]
     },
     "execution_count": 33,
     "metadata": {},
     "output_type": "execute_result"
    }
   ],
   "source": [
    "table1.describe"
   ]
  },
  {
   "cell_type": "markdown",
   "id": "08592a36",
   "metadata": {},
   "source": [
    "# Visual 1: Bar Chart"
   ]
  },
  {
   "cell_type": "code",
   "execution_count": null,
   "id": "22c6d585",
   "metadata": {},
   "outputs": [
    {
     "data": {
      "image/png": "[encoded data removed]",
      "text/plain": [
       "<Figure size 640x480 with 1 Axes>"
      ]
     },
     "metadata": {},
     "output_type": "display_data"
    }
   ],
   "source": [
    "charges = table1.corr()['charges'].drop('charges') \n",
    "plt.bar(charges.index, charges.values, color='lightblue')\n",
    "plt.title('How Much Each Feature Influences Insurance Prices')\n",
    "plt.ylabel('Charges')\n",
    "plt.xticks(rotation=50)\n",
    "plt.show()"
   ]
  },
  {
   "cell_type": "markdown",
   "id": "3d42fdce",
   "metadata": {},
   "source": [
    "In this visual I wanted to create a bar chart to help answer the questions \"answers What factors in a person’s life can influence medical insurance cost the most?\". In this bar chart it shows all the factors that go into deciding an insurance price for a individual. From the outcome of this bar chart its shows smoking is the leading factor that decides an individuals insurance price.  "
   ]
  },
  {
   "cell_type": "markdown",
   "id": "10185652",
   "metadata": {},
   "source": [
    "# Visual 2: Pie Chart"
   ]
  },
  {
   "cell_type": "code",
   "execution_count": null,
   "id": "38e2c130",
   "metadata": {},
   "outputs": [
    {
     "data": {
      "image/png": "[encoded data removed]",
      "text/plain": [
       "<Figure size 640x480 with 1 Axes>"
      ]
     },
     "metadata": {},
     "output_type": "display_data"
    }
   ],
   "source": [
    "labels = ['Health info', 'Personal info']\n",
    "sizes = [60, 40]  \n",
    "colors = ['green', 'brown']\n",
    "plt.pie(sizes, labels=labels, colors=colors, autopct='%1.0f%%')\n",
    "plt.title('Personal vs Health Data Used in Insurance Predictions')\n",
    "plt.show()"
   ]
  },
  {
   "cell_type": "markdown",
   "id": "e7764e57",
   "metadata": {},
   "source": [
    "In this visual I wanted to answer on of my main questions \"What ethical or social issues can come from predicting insurance costs using personal data?\". This visual explains that health infomation is used more in deciding an insurance price than personal information. "
   ]
  },
  {
   "cell_type": "markdown",
   "id": "c968fb6c",
   "metadata": {},
   "source": [
    "# Experiment 1: Linear regression model"
   ]
  },
  {
   "cell_type": "code",
   "execution_count": 15,
   "id": "590e8dbb",
   "metadata": {},
   "outputs": [
    {
     "name": "stdout",
     "output_type": "stream",
     "text": [
      "Experiment 1: Linear regression model\n",
      "RMSE: 5796.28\n",
      "R² Score: 0.78\n"
     ]
    }
   ],
   "source": [
    "experiment1 = LinearRegression()\n",
    "experiment1.fit(X_train_scaled, y_train)\n",
    "y_pred1 = experiment1.predict(X_test_scaled)\n",
    "\n",
    "rmse1 = np.sqrt(mean_squared_error(y_test, y_pred1))\n",
    "r2 = r2_score(y_test, y_pred1)\n",
    "\n",
    "print(\"Experiment 1: Linear regression model\")\n",
    "print(f\"RMSE: {rmse1:.2f}\")\n",
    "print(f\"R² Score: {r2:.2f}\")\n"
   ]
  },
  {
   "cell_type": "markdown",
   "id": "7ae6d013",
   "metadata": {},
   "source": [
    "In this experiment I was predicting a baseline of insurance costs. In my outcome I got 78% for my R^2 value. Overall this experiment shows that features like age, BMI, number of children, sex, smoking status, and region together have a strong impact on predicting insurance costs. This helps answer one of my main questions being, \"what factors in a persons life can influence an individual’s medical insurance cost the most?\"."
   ]
  },
  {
   "cell_type": "markdown",
   "id": "4c2c73f8",
   "metadata": {},
   "source": [
    "# Experiment 2: Adding BMI^2 features"
   ]
  },
  {
   "cell_type": "code",
   "execution_count": null,
   "id": "25c5ad3a",
   "metadata": {},
   "outputs": [
    {
     "name": "stdout",
     "output_type": "stream",
     "text": [
      "Experiment 2: Linear Regression with BMI²\n",
      "RMSE: 5861.72\n",
      "R² Score: 0.78\n"
     ]
    }
   ],
   "source": [
    "table1['bmi_squared'] = table1['bmi'] ** 2\n",
    "\n",
    "X2 = table1.drop('charges', axis=1)\n",
    "y2 = table1['charges']\n",
    "\n",
    "X_train2, X_test2, y_train2, y_test2 = train_test_split(X2, y2, test_size=0.2, random_state=42)\n",
    "\n",
    "scaler2 = StandardScaler()\n",
    "X_train2_scaled = scaler2.fit_transform(X_train2)\n",
    "X_test2_scaled = scaler2.transform(X_test2)\n",
    "\n",
    "model2 = LinearRegression()\n",
    "model2.fit(X_train2_scaled, y_train2)\n",
    "\n",
    "y_pred2 = model2.predict(X_test2_scaled)\n",
    "\n",
    "rmse2 = np.sqrt(mean_squared_error(y_test2, y_pred2))\n",
    "r2_2 = r2_score(y_test2, y_pred2)\n",
    "\n",
    "print(\"Experiment 2: Linear Regression with BMI²\")\n",
    "print(f\"RMSE: {rmse2:.2f}\")\n",
    "print(f\"R² Score: {r2_2:.2f}\")\n"
   ]
  },
  {
   "cell_type": "markdown",
   "id": "dd1e6323",
   "metadata": {},
   "source": [
    "For this experiment I tested whether if BMI had a stronger nonlinear effect on insurance prices. This experiment helps answer \"what factor in a persons life can influence insurance cost?\". The outcome was the same for the R^2 value as the first experiment meaning that the adding BMI^2 does not improve the models accuracy, but it also doesn't make the model less accurate! "
   ]
  },
  {
   "cell_type": "markdown",
   "id": "46d5e52e",
   "metadata": {},
   "source": [
    "# Experiment 3: Ridge Regression"
   ]
  },
  {
   "cell_type": "code",
   "execution_count": null,
   "id": "bf52e539",
   "metadata": {},
   "outputs": [
    {
     "name": "stdout",
     "output_type": "stream",
     "text": [
      "Experiment 3: Ridge Regression\n",
      "RMSE: 5850.22\n",
      "R² Score: 0.78\n"
     ]
    }
   ],
   "source": [
    "ridge_model = Ridge(alpha=1.0)\n",
    "ridge_model.fit(X_train2_scaled, y_train2)\n",
    "y_pred_ridge = ridge_model.predict(X_test2_scaled)\n",
    "\n",
    "rmseRidge = np.sqrt(mean_squared_error(y_test2, y_pred_ridge))\n",
    "r2Ridge = r2_score(y_test2, y_pred_ridge)\n",
    "print(\"Experiment 3: Ridge Regression\")\n",
    "print(f\"RMSE: {rmseRidge:.2f}\")\n",
    "print(f\"R² Score: {r2Ridge:.2f}\")\n"
   ]
  },
  {
   "cell_type": "markdown",
   "id": "60412443",
   "metadata": {},
   "source": [
    "In the last experiment I used ridge regression to help make the results be more spread out by preventing one particle factor from dominating predictions unfairly. The outcome of this project is has the same R^2 value and a sightly lower RMSE number. Using this model it helps predicts the answer to one of my main questions \"What ethical or social implications can come from predicting insurance costs based on personal data?\". "
   ]
  },
  {
   "cell_type": "markdown",
   "id": "a17760e9",
   "metadata": {},
   "source": [
    "# Experiment Visual "
   ]
  },
  {
   "cell_type": "code",
   "execution_count": 11,
   "id": "a049f08d",
   "metadata": {},
   "outputs": [
    {
     "data": {
      "image/png": "[encoded data removed]",
      "text/plain": [
       "<Figure size 640x480 with 1 Axes>"
      ]
     },
     "metadata": {},
     "output_type": "display_data"
    }
   ],
   "source": [
    "experiments = ['Linear', 'Linear + BMI²', 'Ridge']\n",
    "rmse_values = [rmse1, rmse2, rmse_ridge]\n",
    "\n",
    "plt.bar(experiments, rmse_values, color=['lightblue', 'lightgreen', 'salmon'])\n",
    "plt.title('RMSE Comparison Across Experiments')\n",
    "plt.ylabel('RMSE (Lower is Better)')\n",
    "plt.show()"
   ]
  },
  {
   "cell_type": "markdown",
   "id": "3f3486bf",
   "metadata": {},
   "source": [
    "# Impact Section"
   ]
  },
  {
   "cell_type": "markdown",
   "id": "b95aeae4",
   "metadata": {},
   "source": [
    "The impact of this project is to help people evaluate and analyze their insurance costs, as well as to identify the factors that most influence these costs. This information is crucial because nearly everyone needs medical insurance, which can be quite expensive. It is important to acknowledge that my data or models may not be entirely accurate, and any inaccuracies could lead to misinformation about insurance pricing, potentially harming individuals who rely on this information."
   ]
  },
  {
   "cell_type": "markdown",
   "id": "548d197d",
   "metadata": {},
   "source": [
    "# Conclusion "
   ]
  },
  {
   "cell_type": "markdown",
   "id": "c0669ba4",
   "metadata": {},
   "source": [
    "For this project, I used a dataset that analyzed medical insurance. I thought this would be a great dataset to use for regression modeling because it is a beneficial topic to predict with. My goal for this project is to understand and predict what personal and lifestyle factors most influence medical insurance costs. In the first experiment, I used a basic linear regression then for my second experiment, I used a modified version with BMI², and lastly for my third experiment, I made a ridge regression model. For all of my experiments, I got a similar accuracy, explaining about 78% of the cost variation. The results showed that major factors like BMI, age, and smoking habits have the strongest influence on insurance charges."
   ]
  }
 ],
 "metadata": {
  "kernelspec": {
   "display_name": "classenv",
   "language": "python",
   "name": "python3"
  },
  "language_info": {
   "codemirror_mode": {
    "name": "ipython",
    "version": 3
   },
   "file_extension": ".py",
   "mimetype": "text/x-python",
   "name": "python",
   "nbconvert_exporter": "python",
   "pygments_lexer": "ipython3",
   "version": "3.12.11"
  }
 },
 "nbformat": 4,
 "nbformat_minor": 5
}
