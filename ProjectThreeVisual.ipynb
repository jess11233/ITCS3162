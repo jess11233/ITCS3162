{
 "cells": [
  {
   "cell_type": "markdown",
   "id": "27e44920",
   "metadata": {},
   "source": [
    "# Introduction"
   ]
  },
  {
   "cell_type": "markdown",
   "id": "d0802adf",
   "metadata": {},
   "source": [
    "this project is about health insurance "
   ]
  }
 ],
 "metadata": {
  "language_info": {
   "name": "python"
  }
 },
 "nbformat": 4,
 "nbformat_minor": 5
}
